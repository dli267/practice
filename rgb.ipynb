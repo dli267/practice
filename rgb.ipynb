{
 "cells": [
  {
   "cell_type": "markdown",
   "metadata": {},
   "source": [
    "## RGB Cutouts Demo\n",
    "\n",
    "This notebook is intended to demonstrate how to make true-color cutouts from HSC data.\n",
    "\n",
    "It illustrates how to:\n",
    "* Access datasets using Butler\n",
    "* Display images using lsst.afw.display\n",
    "* Produce a RGB color cutout from the coadd\n"
   ]
  },
  {
   "cell_type": "markdown",
   "metadata": {},
   "source": [
    "### Setup\n",
    "\n",
    "This tutorial is meant to be run from the jupyterhub interface where the LSST stack is pre-installed.\n",
    "\n",
    "We begin by importing packages from the LSST stack."
   ]
  },
  {
   "cell_type": "code",
   "execution_count": null,
   "metadata": {},
   "outputs": [],
   "source": [
    "# LSST Stack imports \n",
    "\n",
    "import lsst.daf.persistence as dafPersist\n",
    "import lsst.afw.display.rgb as afwRgb\n",
    "import lsst.afw.geom as afwGeom\n",
    "import lsst.afw.coord as afwCoord\n",
    "import lsst.afw.image as afwImage"
   ]
  },
  {
   "cell_type": "markdown",
   "metadata": {},
   "source": [
    "Next, we import matplotlib and set up parameters for the figure sizes."
   ]
  },
  {
   "cell_type": "code",
   "execution_count": null,
   "metadata": {},
   "outputs": [],
   "source": [
    "%matplotlib inline\n",
    "import matplotlib.pyplot as plt\n",
    "plt.rcParams['figure.figsize'] = (13, 8)"
   ]
  },
  {
   "cell_type": "markdown",
   "metadata": {},
   "source": [
    "### Creating a Butler client\n",
    "\n",
    "Butler is used to access processed image files in the LSST Pipelines. The Butler client is imported from lsst.daf.persistence and is set up below.\n",
    "\n",
    "The coadd from the butler client is also defined below as the skymap."
   ]
  },
  {
   "cell_type": "code",
   "execution_count": null,
   "metadata": {},
   "outputs": [],
   "source": [
    "dataPath = \"/datasets/hsc/repo/rerun/DM-13666/WIDE/\"\n",
    "\n",
    "butler = dafPersist.Butler(dataPath)\n",
    "skymap = butler.get(\"deepCoadd_skyMap\")"
   ]
  },
  {
   "cell_type": "code",
   "execution_count": null,
   "metadata": {},
   "outputs": [],
   "source": [
    "# for Butler documentation\n",
    "# help(butler)"
   ]
  },
  {
   "cell_type": "markdown",
   "metadata": {},
   "source": [
    "Create a list of dataset types, including calexp and coadds."
   ]
  },
  {
   "cell_type": "code",
   "execution_count": null,
   "metadata": {},
   "outputs": [],
   "source": [
    "datasettypes = ['calexp', 'calexpBackground', 'icSrc',\n",
    "               'src', 'srcMatch', 'srcMatchFull', 'ossImage',\n",
    "               'flattenedImage', 'wcs', 'fcr', 'photoCalib',\n",
    "               'jointcal_wcs', 'jointcal_photoCalib', 'skyCorr',\n",
    "               'calexp_camera', 'brightObjectMask', 'deepCoadd_calexp',\n",
    "               'deepCoadd_det', 'deepCoadd_meas', 'deepCoadd_measMatch',\n",
    "               'deepCoadd_mergeDet', 'deepCoadd_ref', 'deepCoadd_forced_src',\n",
    "               'forced_src' ]"
   ]
  },
  {
   "cell_type": "markdown",
   "metadata": {},
   "source": [
    "Select the object of which we want a RGB image cutout.\n",
    "\n",
    "For coadds the WCS is the same in all bands, but the code handles the general case"
   ]
  },
  {
   "cell_type": "code",
   "execution_count": null,
   "metadata": {},
   "outputs": [],
   "source": [
    "ra, dec, name = 215.9747, -0.4344, \"Lens\"\n",
    "\n",
    "raDec = afwCoord.Coord(ra*afwGeom.degrees, dec*afwGeom.degrees)\n",
    "\n",
    "filters = \"grizy\"  # filters to process -- we choose our bands when we set B, R, G = ...\n",
    "\n",
    "cutoutSize = 500   # pixels"
   ]
  },
  {
   "cell_type": "markdown",
   "metadata": {},
   "source": [
    "Start by finding the tract and patch"
   ]
  },
  {
   "cell_type": "code",
   "execution_count": null,
   "metadata": {},
   "outputs": [],
   "source": [
    "for i, tp in enumerate(skymap.findTractPatchList([raDec])):\n",
    "    tractInfo, patchInfo = tp\n",
    "    tract = tractInfo.getId()\n",
    "    patch = \"%d,%d\" % patchInfo[0].getIndex()\n",
    "    print i, tract, patch"
   ]
  },
  {
   "cell_type": "markdown",
   "metadata": {},
   "source": [
    "Then we can read the desired pixels"
   ]
  },
  {
   "cell_type": "code",
   "execution_count": null,
   "metadata": {},
   "outputs": [],
   "source": [
    "images = {}\n",
    "cutoutSize = afwGeom.ExtentI(300, 200)\n",
    "\n",
    "for f in filters:\n",
    "    filterName = \"HSC-%s\" % f.upper()\n",
    "    md = butler.get(\"deepCoadd_calexp_md\", immediate=True,\n",
    "                    tract=tract, patch=patch, filter=filterName)\n",
    "    wcs = afwImage.makeWcs(md)\n",
    "    xy = afwGeom.PointI(wcs.skyToPixel(raDec))\n",
    "\n",
    "    bbox = afwGeom.BoxI(xy - cutoutSize//2, cutoutSize)\n",
    "\n",
    "    images[f] = butler.get(\"deepCoadd_calexp_sub\", bbox=bbox, immediate=True,\n",
    "                            tract=tract, patch=patch, filter=filterName).getMaskedImage()"
   ]
  },
  {
   "cell_type": "markdown",
   "metadata": {},
   "source": [
    "Generate a RGB images, and optionally write to disk"
   ]
  },
  {
   "cell_type": "code",
   "execution_count": null,
   "metadata": {},
   "outputs": [],
   "source": [
    "rgbFileFmt = \"%s-%%s.png\" % name if False else None\n",
    "if not False:\n",
    "    min = dict(gri=0.01, riz=0.01, izy=0.01)\n",
    "    max = dict(gri=0.20, riz=0.20, izy=0.25)\n",
    "else:\n",
    "    min = dict(gri=0.01, riz=0.01, izy=0.05)\n",
    "    max = dict(gri=0.20, riz=0.40, izy=0.50)\n",
    "\n",
    "Q = 10\n",
    "\n",
    "for bands in [\"gri\", \"riz\", \"izy\"]:\n",
    "    B, G, R = bands\n",
    "    rgb = afwRgb.makeRGB(images[R], images[G], images[B],\n",
    "                         min[bands], max[bands] - min[bands], Q,\n",
    "                         #saturatedBorderWidth=1, saturatedPixelValue=10\n",
    "                         )\n",
    "    \n",
    "    afwRgb.displayRGB(rgb)\n",
    "    \n",
    "    if rgbFileFmt:\n",
    "        afwRgb.writeRGB(rgbFileFmt % bands, rgb)"
   ]
  },
  {
   "cell_type": "code",
   "execution_count": null,
   "metadata": {},
   "outputs": [],
   "source": []
  }
 ],
 "metadata": {
  "kernelspec": {
   "display_name": "LSST",
   "language": "python",
   "name": "lsst"
  },
  "language_info": {
   "codemirror_mode": {
    "name": "ipython",
    "version": 3
   },
   "file_extension": ".py",
   "mimetype": "text/x-python",
   "name": "python",
   "nbconvert_exporter": "python",
   "pygments_lexer": "ipython3",
   "version": "3.6.2"
  }
 },
 "nbformat": 4,
 "nbformat_minor": 2
}
